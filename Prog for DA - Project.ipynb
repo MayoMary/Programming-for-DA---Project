{
 "cells": [
  {
   "cell_type": "markdown",
   "metadata": {},
   "source": [
    "### Programming for Data analystics - Project 2018\n",
    "\n",
    "From project....\n",
    "\n",
    "I will create a data set by simulating a study of childhood obesity then model and synthesise the data using Python.\n",
    "The numpy.random package will be used. \n",
    "'•\tChildhood obesity will be measured for one-hundred data points across four different variables.\n",
    " •\tI will investigate the types of variables involved, their likely distributions, and their relationships with each other.\n",
    " •\tSynthesise/simulate a data set as closely matching their properties as possible.\n",
    " •\tUse of Jupyter notebook to detail my research and implement the simulation. \n",
    "\n",
    "\n",
    "##### Types of variables:\n",
    "There are two types - categorical and numerical. Categorical variables are ones with names or labels. Examples of categorical variables include species of the Iris flower - Setosa, Versicolor and Virginica. For this project, the categorical variables are obesity and sex. Obesity will be labeled yes or no depending on output data and sex will be male or female. \n",
    "The four attributes\\variables for which values can be measured are age, BMI, weight and height.\n",
    "Reference : https://stattrek.com/statistics/dictionary.aspx?definition=categorical%20variable\n",
    "\n",
    "\n",
    "##### synthesise a data set\n",
    "\n",
    "Synthetic data, which retains the essential features of the actual data with some or all of the values replaced by simulations from probability distributions, can be a way of overcoming these difficulties\n",
    "Reference : Journal of Privacy and Confidentiality (2016-2017); 7, Number 3, 67–97; Practical data synthesis for large samples\n",
    "\n",
    "The general approach is to do traditional statistical analysis on your data set to define a multidimensional random process that will generate data with the same statistical characteristics. The virtue of this approach is that your synthetic data is independent of your ML model, but statistically \"close\" to your data. (see below for discussion of your alternative)\n",
    "\n",
    "In essence, you are estimating the multivariate probability distribution associated with the process. Once you have estimated the distribution, you can generate synthetic data through the Monte Carlo method or similar repeated sampling methods. If your data resembles some parametric distribution (e.g. lognormal) then this approach is straightforward and reliable. The tricky part is to estimate the dependence between variables. See: https://www.encyclopediaofmath.org/index.php/Multi-dimensional_statistical_analysis.\n",
    "Reference : https://datascience.stackexchange.com/questions/5427/how-to-generate-synthetic-dataset-using-machine-learning-model-learnt-with-origi\n",
    "\n",
    "\n",
    "The advantaage of synthesising a data set are :\n",
    " - Enables suimulation to forcast for example customer behaviour.  \n",
    " - is that it can be used where it is difficut to obtain the source data given more stringent laws regarding legal, privacy and security.\n",
    " - more flexibility re more variability in the dataset to validate against various situations like different population sizes, different data distributions, various data quality issues like missing or invalid data...\n",
    "Reference :https://www.datacamp.com/community/tutorials/generate-data-trumania\n",
    " - Can be used to test new data management software for scalability\n",
    "  - The advance of big data is necessitating ionvenstment in data synthesis.\n",
    "\n",
    "The disadvantage of synthesising a data set are :\n",
    " -  only certain properties of the data can be replicated. It is not possible to attain a perfect so therefore can only simulate general trends.\n",
    "\n",
    "Synthetic data can be generated in two significant wasy:\n",
    "   - Use of distribution where 'real-world' statistic distributions from the source data is used to regenerate false data by drawing simple numbers.  \n",
    "  - \n",
    "\n",
    "\n",
    "Reference : https://www.riaktr.com/synthetic-data-become-major-competitive-advantage/\n",
    "and consists of designing an algorithm that describes how the problem is to be solved followed by implementing this algorithm.\n",
    "Reference :https://www.ncbi.nlm.nih.gov/pmc/articles/PMC5597726/\n"
   ]
  },
  {
   "cell_type": "markdown",
   "metadata": {},
   "source": [
    "### Creating my Dataset \n",
    "\n",
    "### AGE, \n",
    "As dealing with childhood, therefore investigating data for age range 0 to 12 years inclusive.\n",
    "Age will be measured in years as full numbers. \n",
    "\n",
    "### include this line towards the endThe data in this attribute\\column will be sorted and follow an increasing patern from 0 upwards.\n",
    "\n",
    "\n",
    "### Based on research relationship between age and height is almost a straight line, therefore an upwards linear. \n",
    "https://www3.nd.edu/~busiforc/handouts/Data%20and%20Stories/correlation/Age%20and%20Height/ageandheight.html\n",
    "\n",
    "### Based on research relationship between age and weight is not linear. It follows an increasing pattern for ages 0 to 5 years. On this basis, I am assuming that this pattern continues to age 12.\n",
    "https://www.infantchart.com/who0to5weightforage.php\n",
    "\n",
    "### Based on research relationship between age and weight is not linear. It follows an increasing pattern for ages 0 to 5 years. On this basis, I am assuming that this pattern continues to age 12.\n",
    "https://www.infantchart.com/who0to5weightforage.php\n",
    "\n",
    "#R'ship 2 : \n",
    "\n",
    "        \n",
    "Distribtuiom : cannot plot\n",
    "            \n",
    "            \n",
    "            "
   ]
  },
  {
   "cell_type": "code",
   "execution_count": 11,
   "metadata": {},
   "outputs": [
    {
     "name": "stdout",
     "output_type": "stream",
     "text": [
      "[10  8 10 11  6  3  0  3  6  2  8  6  2  3  6  7  0  6  7 10  0  9  2  8 11\n",
      "  5  3  8  6  8  4 10  0  2  9 11  6  8  6  8  2  8  5  2  3  7  5  5  4 11\n",
      "  5  3  1  7  1 11  8  0  3  6  8  1  0 10 11  6  1  4  3 11  9  3  1 10  1\n",
      "  8  0 11 11  6  8  0  4  3  5  6  8 10  2  6  1  1  8  3  9  2  5  1  6  4]\n"
     ]
    }
   ],
   "source": [
    "# In order to generate random information I need to set the upper and lower age limits. 0 = lower limit and 12  = upper limit\n",
    "# size = 100 for datapoints\n",
    "\n",
    "import numpy as np\n",
    "age = np.random.randint(0, 12,100)\n",
    "print(age)\n"
   ]
  },
  {
   "cell_type": "code",
   "execution_count": null,
   "metadata": {
    "collapsed": true
   },
   "outputs": [],
   "source": [
    "# Sex, male or female, Set male as equal to '0' and female as '1'.\n",
    "The datapoints for sex will be randonly generated.\n"
   ]
  },
  {
   "cell_type": "code",
   "execution_count": null,
   "metadata": {
    "collapsed": true
   },
   "outputs": [],
   "source": [
    "# Weight : \n",
    "# In order to generate random information I need to find upper and lower limit of weight for children\n",
    "3.3Kg is the lowest and 41.5Kg is the maximum weight at 12 years of age\n",
    "\n",
    "BMI not accurate as children have growth spurts during their young years.\n",
    "Ref : https://www.disabled-world.com/calculators-charts/height-weight-teens.php"
   ]
  },
  {
   "cell_type": "code",
   "execution_count": null,
   "metadata": {
    "collapsed": true
   },
   "outputs": [],
   "source": [
    "# seed the pseudorandom number generator\n",
    "from random import seed\n",
    "from random import random\n",
    "# seed random number generator\n",
    "seed(1)\n",
    "# generate some random numbers\n",
    "print(random(), random(), random())\n",
    "# reset the seed\n",
    "seed(1)\n",
    "# generate some random numbers\n",
    "print(random(), random(), random())"
   ]
  },
  {
   "cell_type": "code",
   "execution_count": null,
   "metadata": {
    "collapsed": true
   },
   "outputs": [],
   "source": [
    "# Height : \n",
    "# In order to generate random information, similar to Weight, I need to find upper and lower limit of height for children\n",
    "34cm is the lowest and 149.8cm, rounded to 150cm is the maximum weight at 12 years of age\n",
    "Ref : https://www.disabled-world.com/calculators-charts/height-weight-teens.php \n",
    "\n",
    "Probability : Almost Exponential\n"
   ]
  },
  {
   "cell_type": "code",
   "execution_count": null,
   "metadata": {
    "collapsed": true
   },
   "outputs": [],
   "source": [
    "# seed the pseudorandom number generator\n",
    "from random import seed\n",
    "from random import random\n",
    "# seed random number generator\n",
    "seed(1)\n",
    "# generate some random numbers\n",
    "print(random(), random(), random())\n",
    "# reset the seed\n",
    "seed(1)\n",
    "# generate some random numbers\n",
    "print(random(), random(), random())"
   ]
  },
  {
   "cell_type": "code",
   "execution_count": null,
   "metadata": {
    "collapsed": true
   },
   "outputs": [],
   "source": [
    "# BMI : Body Mass Index ....\n",
    "# In order to generate random information, similar to height, I need to find upper and lower limit of BMI data for children.\n",
    "# Range : 0 is the lowest and 27.5, rounded to 30cm is the maximum BMI \n",
    "https://www.infantchart.com/who0to5weightforage.php\n",
    "    \n",
    "### Based on research relationship between BMI and height is ????????\n",
    "\n",
    "\n",
    "\n",
    "#Relationship 1 : \n",
    "#R'ship 2 : \n",
    "\n",
    "Formula : Weight in kgs divided by \n",
    "Reference :https://www.calculator.net/bmi-calculator.html\n",
    "        \n",
    "        Distribution of BMI : Follows an almost normal distribution\n",
    "            "
   ]
  },
  {
   "cell_type": "code",
   "execution_count": null,
   "metadata": {
    "collapsed": true
   },
   "outputs": [],
   "source": [
    "# Obesity. An output ......category\n"
   ]
  }
 ],
 "metadata": {
  "kernelspec": {
   "display_name": "Python 3",
   "language": "python",
   "name": "python3"
  },
  "language_info": {
   "codemirror_mode": {
    "name": "ipython",
    "version": 3
   },
   "file_extension": ".py",
   "mimetype": "text/x-python",
   "name": "python",
   "nbconvert_exporter": "python",
   "pygments_lexer": "ipython3",
   "version": "3.6.3"
  }
 },
 "nbformat": 4,
 "nbformat_minor": 2
}
