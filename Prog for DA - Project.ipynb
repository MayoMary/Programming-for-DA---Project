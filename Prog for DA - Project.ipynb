{
 "cells": [
  {
   "cell_type": "markdown",
   "metadata": {},
   "source": [
    "### Real world phenonemon : Study of childhood obesity.\n",
    "    \n",
    "##### 4 Attributes  for which values can be measured are age, BMI, weight and height.\n",
    "#### Two additional variables inlcuded for obesity and sex which are categorical variables.\n",
    "\n",
    "Explain cat variable\n",
    "\n",
    "EXPLAIN RE syntesis data and generate 100 datapoiints for the variables above\n"
   ]
  },
  {
   "cell_type": "markdown",
   "metadata": {},
   "source": [
    "# AGE, \n",
    "As dealing with childhood, therefore investigating data for age range 0 to 12 yearts inclusive.\n",
    "Age will be measured in years\n",
    "\n",
    "### include this line towards the endThe data in this attribute\\column will be sorted and follow an increasing patern from 0 upwards.\n",
    "\n",
    "\n",
    "#Relationship 1 : \n",
    "#R'ship 2 : \n",
    "\n",
    "        \n",
    "Distribtuiom : cannot plot\n",
    "            \n",
    "            \n",
    "            "
   ]
  },
  {
   "cell_type": "code",
   "execution_count": null,
   "metadata": {
    "collapsed": true
   },
   "outputs": [],
   "source": [
    "# Obesity. A category\n"
   ]
  },
  {
   "cell_type": "code",
   "execution_count": null,
   "metadata": {
    "collapsed": true
   },
   "outputs": [],
   "source": [
    "# Sex, male or female, Set male as equal to '0' and female as '1'."
   ]
  },
  {
   "cell_type": "code",
   "execution_count": null,
   "metadata": {
    "collapsed": true
   },
   "outputs": [],
   "source": [
    "# Weight : \n",
    "Need to find upper and lower limit of weight for children\n",
    "3.3Kg is the lowest and 41.5Kg is the maximum weight at 12 years of age\n",
    "\n",
    "BMI not accurate as children have growth spurts during their young years.\n",
    "Ref : https://www.disabled-world.com/calculators-charts/height-weight-teens.php"
   ]
  },
  {
   "cell_type": "code",
   "execution_count": null,
   "metadata": {
    "collapsed": true
   },
   "outputs": [],
   "source": [
    "# Height : \n",
    "Need to find upper and lower limit of weight for children\n",
    "34cm is the lowest and 149.8cm, rounded to 150cm is the maximum weight at 12 years of age\n",
    "Ref : https://www.disabled-world.com/calculators-charts/height-weight-teens.php \n",
    "\n",
    "        Probability : Almost Exponential\n",
    "Ref : https://www.disabled-world.com/calculators-charts/height-weight-teens.php "
   ]
  },
  {
   "cell_type": "code",
   "execution_count": null,
   "metadata": {
    "collapsed": true
   },
   "outputs": [],
   "source": [
    "\n",
    "# BMI : Body Mass Index ....\n",
    "Range 18.5Kg \n",
    "#Relationship 1 : \n",
    "#R'ship 2 : \n",
    "\n",
    "Formula : Weight in kgs divided by \n",
    "Reference :https://www.calculator.net/bmi-calculator.html\n",
    "        \n",
    "        Distribution of BMI : Follows an almost normal distribution\n",
    "            "
   ]
  }
 ],
 "metadata": {
  "kernelspec": {
   "display_name": "Python 3",
   "language": "python",
   "name": "python3"
  },
  "language_info": {
   "codemirror_mode": {
    "name": "ipython",
    "version": 3
   },
   "file_extension": ".py",
   "mimetype": "text/x-python",
   "name": "python",
   "nbconvert_exporter": "python",
   "pygments_lexer": "ipython3",
   "version": "3.6.3"
  }
 },
 "nbformat": 4,
 "nbformat_minor": 2
}
